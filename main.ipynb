{
 "cells": [
  {
   "cell_type": "code",
   "execution_count": null,
   "metadata": {},
   "outputs": [],
   "source": [
    "import pickle\n",
    "import numpy\n",
    "import numpy as np\n",
    "\n",
    "import model.file_utils as file_utils\n",
    "\n",
    "# test local only\n",
    "import os\n",
    "os.environ[\"CUDA_VISIBLE_DEVICES\"] = \"-1\"\n",
    "\n",
    "MODEL_ID = 3"
   ]
  },
  {
   "cell_type": "code",
   "execution_count": null,
   "metadata": {},
   "outputs": [],
   "source": [
    "names, data, labels = file_utils.read_data(\\\n",
    "    \"data/cifa10\", is_train=True)\n",
    "\n",
    "# data = data[5000:5000+t_train_size]\n",
    "# labels = labels[5000:5000+t_train_size]\n",
    "\n",
    "t_names, t_data, t_labels = file_utils.read_data(\\\n",
    "    \"data/cifa10\", is_train=False)\n",
    "\n",
    "# t_data = t_data[1000:1000+t_test_size]\n",
    "# t_labels = t_labels[1000:1000+t_test_size]\n",
    "\n",
    "evaluation_size = 1000\n",
    "evaluation_pos = 2000\n",
    "t_data_eva = t_data[evaluation_pos:evaluation_pos+evaluation_size]\n",
    "t_labels_eva = t_labels[evaluation_pos:evaluation_pos+evaluation_size]"
   ]
  },
  {
   "cell_type": "code",
   "execution_count": null,
   "metadata": {},
   "outputs": [],
   "source": [
    "def convert_to_one_hot(y_dataset, num_labels):\n",
    "    y_one_hot = np.array([-99.] * num_labels)\n",
    "    for val in y_dataset:\n",
    "        one_hot = np.array(\\\n",
    "            [0.] * int(val) + [1.] + [0.] * int(num_labels - val - 1))\n",
    "        \n",
    "        y_one_hot = np.vstack((y_one_hot, one_hot))\n",
    "    \n",
    "    return y_one_hot[1:] # remove first dummy\n",
    "\n",
    "y_train_one_hot = convert_to_one_hot(labels, len(names))\n",
    "y_test_one_hot = convert_to_one_hot(t_labels, len(t_names))\n",
    "y_test_one_hot_eva = convert_to_one_hot(t_labels_eva, len(t_names))"
   ]
  },
  {
   "cell_type": "code",
   "execution_count": null,
   "metadata": {},
   "outputs": [],
   "source": [
    "from model.cifa10_model import cifa10_model\n",
    "\n",
    "ml_model = cifa10_model(MODEL_ID, \"meta\")\n",
    "ml_model.init_session()\n",
    "# ml_model.restore_session(\"\")\n",
    "\n",
    "try:\n",
    "    ml_model.training_loop(data, labels, y_train_one_hot, t_data_eva, t_labels_eva, y_test_one_hot_eva)\n",
    "except KeyboardInterrupt:\n",
    "    ml_model.save_model()\n",
    "    ml_model.save_metrics()\n",
    "\n",
    "    exit(1)\n",
    "else:\n",
    "    print(\"UNKNOWN ERROR!!!\")"
   ]
  }
 ],
 "metadata": {
  "interpreter": {
   "hash": "d7285945a423fc992bf2adbf580807062a975d0ecb905625573dda8ba3fd5e41"
  },
  "kernelspec": {
   "display_name": "Python 3.7.10 64-bit ('.venv': venv)",
   "name": "python3"
  },
  "language_info": {
   "name": "python",
   "version": "3.7.10"
  },
  "orig_nbformat": 4
 },
 "nbformat": 4,
 "nbformat_minor": 2
}
